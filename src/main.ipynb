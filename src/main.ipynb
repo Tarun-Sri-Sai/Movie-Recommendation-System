{
  "cells": [
    {
      "cell_type": "markdown",
      "id": "8e4be682",
      "metadata": {},
      "source": [
        "# Movie Recommendation System"
      ]
    },
    {
      "cell_type": "code",
      "execution_count": null,
      "id": "93643499",
      "metadata": {},
      "outputs": [],
      "source": [
        "import os\n",
        "import numpy as np\n",
        "from typing import Type"
      ]
    },
    {
      "cell_type": "code",
      "execution_count": null,
      "id": "dccabb57",
      "metadata": {},
      "outputs": [],
      "source": [
        "DATA_DIRECTORY: str = \"data\"\n",
        "MOVIES_CSV: str = os.path.join(DATA_DIRECTORY, \"movies.csv\")\n",
        "INPUT_CSV: str = os.path.join(DATA_DIRECTORY, \"input.csv\")\n",
        "RATINGS_CSV: str = os.path.join(DATA_DIRECTORY, \"ratings.csv\")\n",
        "\n",
        "MOVIES_DTYPE: dict[str, Type] = {\n",
        "    \"movieId\": np.int32,\n",
        "    \"title\": str,\n",
        "    \"genres\": str\n",
        "}\n",
        "RATINGS_DTYPE: dict[str, Type] = {\n",
        "    \"userId\": np.int32,\n",
        "    \"movieId\": np.int32,\n",
        "    \"rating\": np.float16,\n",
        "    \"timestamp\": np.int32\n",
        "}\n",
        "\n",
        "CHUNK_SIZE: int = 100_000"
      ]
    },
    {
      "cell_type": "markdown",
      "id": "9fb2fa5d",
      "metadata": {},
      "source": [
        "## 1. Preparing the movie data"
      ]
    },
    {
      "cell_type": "code",
      "execution_count": null,
      "id": "a084fad6",
      "metadata": {},
      "outputs": [],
      "source": [
        "import pandas as pd\n",
        "from scipy.sparse import spmatrix\n",
        "from typing import Union\n",
        "from numpy.typing import NDArray\n",
        "from sklearn.preprocessing import MultiLabelBinarizer"
      ]
    },
    {
      "cell_type": "markdown",
      "id": "e8205934",
      "metadata": {},
      "source": [
        "1. Load the movie data from the file \"movies.csv\" consisting of the columns `movieId`, `title`, and `genres` into the dataframe `movies_df`"
      ]
    },
    {
      "cell_type": "code",
      "execution_count": null,
      "id": "004afc99",
      "metadata": {},
      "outputs": [],
      "source": [
        "movies_df: pd.DataFrame = pd.read_csv(MOVIES_CSV, dtype=MOVIES_DTYPE)"
      ]
    },
    {
      "cell_type": "markdown",
      "id": "1f9a7c55",
      "metadata": {},
      "source": [
        "2. Drop the rows with missing values"
      ]
    },
    {
      "cell_type": "code",
      "execution_count": null,
      "id": "0f9a9883",
      "metadata": {},
      "outputs": [],
      "source": [
        "print(f\"Before: {movies_df.shape[0]}\")\n",
        "movies_df = movies_df.dropna()\n",
        "print(f\"After: {movies_df.shape[0]}\")"
      ]
    },
    {
      "cell_type": "markdown",
      "id": "a55c08f1",
      "metadata": {},
      "source": [
        "3. One-hot encode the `genres` column by splitting with \"|\""
      ]
    },
    {
      "cell_type": "code",
      "execution_count": null,
      "id": "3c42f2dc",
      "metadata": {},
      "outputs": [],
      "source": [
        "mlb: MultiLabelBinarizer = MultiLabelBinarizer()\n",
        "encodings: Union[NDArray[np.int32], spmatrix] = mlb.fit_transform(\n",
        "    movies_df[\"genres\"].str.split(\"|\"))"
      ]
    },
    {
      "cell_type": "markdown",
      "id": "648db6d3",
      "metadata": {},
      "source": [
        "4. Store the one-hot encodings back into the `genres` column by encoding them as 32-bit integers (since we have less than 32 genres)"
      ]
    },
    {
      "cell_type": "code",
      "execution_count": null,
      "id": "a41a6235",
      "metadata": {},
      "outputs": [],
      "source": [
        "genre_bits: NDArray[np.int32] = np.zeros(len(movies_df), dtype=np.int32)\n",
        "for i in range(encodings.shape[1]):\n",
        "    genre_bits = genre_bits | (encodings[:, i].astype(np.int32) << i)\n",
        "\n",
        "movies_df[\"genres\"] = genre_bits"
      ]
    },
    {
      "cell_type": "code",
      "execution_count": null,
      "id": "2fe4301e",
      "metadata": {},
      "outputs": [],
      "source": [
        "movies_df.head()"
      ]
    },
    {
      "cell_type": "markdown",
      "id": "fc7a7bfd",
      "metadata": {},
      "source": [
        "## 2. Preparing the input data"
      ]
    },
    {
      "cell_type": "markdown",
      "id": "79086f53",
      "metadata": {},
      "source": [
        "1. Load the movie data from the file \"input.csv\" consisting of the columns `movieId`, `title` and `rating` into the dataframe `input_df`"
      ]
    },
    {
      "cell_type": "code",
      "execution_count": null,
      "id": "4ca109bf",
      "metadata": {},
      "outputs": [],
      "source": [
        "input_df: pd.DataFrame = pd.read_csv(INPUT_CSV)"
      ]
    },
    {
      "cell_type": "markdown",
      "id": "9763a5ce",
      "metadata": {},
      "source": [
        "2. Drop the rows with missing values"
      ]
    },
    {
      "cell_type": "code",
      "execution_count": null,
      "id": "383514e5",
      "metadata": {},
      "outputs": [],
      "source": [
        "print(f\"Before: {input_df.shape[0]}\")\n",
        "input_df = input_df.dropna()\n",
        "print(f\"After: {input_df.shape[0]}\")"
      ]
    },
    {
      "cell_type": "markdown",
      "id": "47e80e26",
      "metadata": {},
      "source": [
        "3. Drop the rows whose `movieId` is not present in `movies_df`"
      ]
    },
    {
      "cell_type": "code",
      "execution_count": null,
      "id": "559f102a",
      "metadata": {},
      "outputs": [],
      "source": [
        "print(f\"Before: {input_df.shape[0]}\")\n",
        "input_df = input_df[input_df[\"movieId\"].isin(movies_df[\"movieId\"])]\n",
        "print(f\"After: {input_df.shape[0]}\")"
      ]
    },
    {
      "cell_type": "markdown",
      "id": "e0bb04e5",
      "metadata": {},
      "source": [
        "## 3. Content-based filtering"
      ]
    },
    {
      "cell_type": "code",
      "execution_count": null,
      "id": "3c2779e1",
      "metadata": {},
      "outputs": [],
      "source": [
        "from collections import defaultdict"
      ]
    },
    {
      "cell_type": "markdown",
      "id": "2b0b0696",
      "metadata": {},
      "source": [
        "1. Pre-compute the `genre_mappings`"
      ]
    },
    {
      "cell_type": "code",
      "execution_count": null,
      "id": "eb8985b1",
      "metadata": {},
      "outputs": [],
      "source": [
        "genre_mappings: dict[int, int] = dict(zip(movies_df[\"movieId\"],\n",
        "                                          movies_df[\"genres\"]))"
      ]
    },
    {
      "cell_type": "markdown",
      "id": "e41d5fda",
      "metadata": {},
      "source": [
        "2. Pre-compute the `genre_strengths`"
      ]
    },
    {
      "cell_type": "code",
      "execution_count": null,
      "id": "8a809172",
      "metadata": {},
      "outputs": [],
      "source": [
        "genre_strengths: defaultdict[int, int] = defaultdict(int)\n",
        "\n",
        "for movie_id in input_df[\"movieId\"]:\n",
        "    for i in range(0, 32):\n",
        "        genre_strengths[i] += ((genre_mappings[movie_id] >> i) & 1)"
      ]
    },
    {
      "cell_type": "code",
      "execution_count": null,
      "id": "94130a76",
      "metadata": {},
      "outputs": [],
      "source": [
        "genre_strengths"
      ]
    },
    {
      "cell_type": "markdown",
      "id": "0b3e054c",
      "metadata": {},
      "source": [
        "3. Compute the genre similarity scores"
      ]
    },
    {
      "cell_type": "code",
      "execution_count": null,
      "id": "e8e09fbe",
      "metadata": {},
      "outputs": [],
      "source": [
        "genre_similarities: defaultdict[int, float] = defaultdict(float)\n",
        "\n",
        "for movie_id, movie_genres in genre_mappings.items():\n",
        "    for input_movie_id in input_df[\"movieId\"]:\n",
        "        common = genre_mappings[input_movie_id] & movie_genres\n",
        "        for i in range(0, 32):\n",
        "            genre_similarities[movie_id] += ((common >> i) & 1) * genre_strengths[i]"
      ]
    },
    {
      "cell_type": "markdown",
      "id": "f5f21a15",
      "metadata": {},
      "source": [
        "4. Normalize the `genre_similarities` in the range 0 to 1"
      ]
    },
    {
      "cell_type": "code",
      "execution_count": null,
      "id": "8d86a403",
      "metadata": {},
      "outputs": [],
      "source": [
        "max_score = max(genre_similarities.values())\n",
        "genre_similarities = {k: v / max_score for k, v in genre_similarities.items()}"
      ]
    },
    {
      "cell_type": "code",
      "execution_count": null,
      "id": "5380944e",
      "metadata": {},
      "outputs": [],
      "source": [
        "genre_similarities"
      ]
    },
    {
      "cell_type": "markdown",
      "id": "7a1e542a",
      "metadata": {},
      "source": [
        "## 4. Preparing the rating data"
      ]
    },
    {
      "cell_type": "code",
      "execution_count": null,
      "id": "c6128a73",
      "metadata": {},
      "outputs": [],
      "source": [
        "from pandas.io.parsers import TextFileReader\n",
        "from typing import Generator, Type"
      ]
    },
    {
      "cell_type": "code",
      "execution_count": null,
      "id": "05fc87ff",
      "metadata": {},
      "outputs": [],
      "source": [
        "def read_csv_in_chunks(\n",
        "    file_path: str,\n",
        "    dtype: dict[str, Type],\n",
        "    chunk_size: int\n",
        ") -> Generator[pd.DataFrame, None, None]:\n",
        "    reader: TextFileReader = pd.read_csv(file_path, chunksize=chunk_size,\n",
        "                                         dtype=dtype)\n",
        "    for chunk in reader:\n",
        "        chunk: pd.DataFrame\n",
        "        yield chunk.dropna()"
      ]
    },
    {
      "cell_type": "markdown",
      "id": "eb99e722",
      "metadata": {},
      "source": [
        "1. Load the movie data from the file \"ratings.csv\" consisting of the columns `userId`, `movieId`, `rating`, `timestamp` into the dataframe `ratings_df`"
      ]
    },
    {
      "cell_type": "code",
      "execution_count": null,
      "id": "19c70e1f",
      "metadata": {},
      "outputs": [],
      "source": [
        "def get_ratings_df() -> Generator[pd.DataFrame, None, None]:\n",
        "    return read_csv_in_chunks(RATINGS_CSV, RATINGS_DTYPE, CHUNK_SIZE)"
      ]
    },
    {
      "cell_type": "markdown",
      "id": "5cee8500",
      "metadata": {},
      "source": [
        "2. Pre-compute the `rating_mappings`"
      ]
    },
    {
      "cell_type": "code",
      "execution_count": null,
      "id": "1ad60223",
      "metadata": {},
      "outputs": [],
      "source": [
        "rating_mappings: defaultdict[int, float] = dict(zip(input_df[\"movieId\"],\n",
        "                                                    input_df[\"rating\"]))"
      ]
    },
    {
      "cell_type": "markdown",
      "id": "2fe35a60",
      "metadata": {},
      "source": [
        "## 5. Collabarative filtering"
      ]
    },
    {
      "cell_type": "markdown",
      "id": "f1843930",
      "metadata": {},
      "source": [
        "1. Compute the user similarity scores"
      ]
    },
    {
      "cell_type": "code",
      "execution_count": null,
      "id": "38f08823",
      "metadata": {},
      "outputs": [],
      "source": [
        "user_scores: defaultdict[float] = defaultdict(float)\n",
        "user_counts: defaultdict[int] = defaultdict(int)\n",
        "\n",
        "for chunk in get_ratings_df():\n",
        "    chunk_fil: pd.DataFrame = (chunk[chunk[\"movieId\"].isin(rating_mappings)]\n",
        "                               .copy())\n",
        "    mae = 1 + abs(chunk_fil[\"rating\"]\n",
        "                  - chunk_fil[\"movieId\"].map(rating_mappings))\n",
        "    chunk_fil[\"score\"] = 1 / mae\n",
        "\n",
        "    for _, row in chunk_fil.iterrows():\n",
        "        user_scores[row[\"userId\"]] += row[\"score\"]\n",
        "        user_counts[row[\"userId\"]] += 1"
      ]
    },
    {
      "cell_type": "code",
      "execution_count": null,
      "id": "e47321e4",
      "metadata": {},
      "outputs": [],
      "source": [
        "user_similarities: list[tuple[int, float]] = [\n",
        "    (int(u), user_scores[u]) for u in user_scores if user_counts[u] > 0\n",
        "]"
      ]
    },
    {
      "cell_type": "markdown",
      "id": "da2b8ffb",
      "metadata": {},
      "source": [
        "2. Get the top 10 users from the `user_similarities` and put them in `top_users`"
      ]
    },
    {
      "cell_type": "code",
      "execution_count": null,
      "id": "13528070",
      "metadata": {},
      "outputs": [],
      "source": [
        "top_users: list[tuple[int, float]] = sorted(\n",
        "    user_similarities, key=lambda x: x[1], reverse=True)[:10]"
      ]
    },
    {
      "cell_type": "code",
      "execution_count": null,
      "id": "7979b255",
      "metadata": {},
      "outputs": [],
      "source": [
        "top_users"
      ]
    },
    {
      "cell_type": "markdown",
      "id": "1ee34316",
      "metadata": {},
      "source": [
        "3. Compute the scores for movies rated by users in `top_users`"
      ]
    },
    {
      "cell_type": "code",
      "execution_count": null,
      "id": "6f451096",
      "metadata": {},
      "outputs": [],
      "source": [
        "movie_scores: defaultdict[float] = defaultdict(float)\n",
        "movie_counts: defaultdict[int] = defaultdict(int)\n",
        "\n",
        "for chunk in get_ratings_df():\n",
        "    chunk_fil: pd.DataFrame = chunk[chunk[\"userId\"].isin(top_users)].copy()\n",
        "\n",
        "    for _, row in chunk_fil.iterrows():\n",
        "        movie_scores[row[\"movieId\"]] += row[\"rating\"]\n",
        "        movie_counts[row[\"movieId\"]] += 1"
      ]
    },
    {
      "cell_type": "code",
      "execution_count": null,
      "id": "7cfd582e",
      "metadata": {},
      "outputs": [],
      "source": [
        "similar_movie_scores: dict[int, float] = {\n",
        "    int(m): movie_scores[m] / movie_counts[m] for m in movie_scores\n",
        "    if movie_counts[m] > 0\n",
        "}"
      ]
    },
    {
      "cell_type": "markdown",
      "id": "09f69c46",
      "metadata": {},
      "source": [
        "4. Normalize the `similar_movie_scores` in the range 0 to 1"
      ]
    },
    {
      "cell_type": "code",
      "execution_count": null,
      "id": "55d2550b",
      "metadata": {},
      "outputs": [],
      "source": [
        "max_scores = max(similar_movie_scores.values())\n",
        "similar_movie_scores = {\n",
        "    k: v / max_scores for k, v in similar_movie_scores.items()\n",
        "}"
      ]
    },
    {
      "cell_type": "markdown",
      "id": "615c6ad7",
      "metadata": {},
      "source": [
        "## Final Result"
      ]
    },
    {
      "cell_type": "markdown",
      "id": "b07322ce",
      "metadata": {},
      "source": [
        "1. Compute the final result"
      ]
    },
    {
      "cell_type": "code",
      "execution_count": null,
      "id": "72910032",
      "metadata": {},
      "outputs": [],
      "source": [
        "final_scores: list[tuple[int, float]] = [\n",
        "    (int(m), \n",
        "     0.7 * genre_similarities[m] + 0.3 * similar_movie_scores.get(m, 0))\n",
        "    for m in genre_similarities\n",
        "]"
      ]
    },
    {
      "cell_type": "markdown",
      "id": "5e5d563f",
      "metadata": {},
      "source": [
        "2. Get the top 50 movies from the `final_scores` and store them in `top_movies`"
      ]
    },
    {
      "cell_type": "code",
      "execution_count": null,
      "id": "e7c3ec80",
      "metadata": {},
      "outputs": [],
      "source": [
        "top_movies: list[tuple[int, float]] = sorted(\n",
        "    final_scores, key=lambda x: x[1], reverse=True)[:10]"
      ]
    },
    {
      "cell_type": "code",
      "execution_count": null,
      "id": "e5102a4b",
      "metadata": {},
      "outputs": [],
      "source": [
        "for id, score in top_movies:\n",
        "    print(movies_df[movies_df['movieId'] == id].iloc[0]['title'],\n",
        "          score)"
      ]
    },
    {
      "cell_type": "code",
      "execution_count": null,
      "id": "c531edb7",
      "metadata": {},
      "outputs": [],
      "source": []
    }
  ],
  "metadata": {
    "kernelspec": {
      "display_name": "Python 3 (ipykernel)",
      "language": "python",
      "name": "python3"
    }
  },
  "nbformat": 4,
  "nbformat_minor": 5
}
