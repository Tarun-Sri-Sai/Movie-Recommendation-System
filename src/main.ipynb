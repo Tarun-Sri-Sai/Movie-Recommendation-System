{
  "cells": [
    {
      "cell_type": "markdown",
      "id": "8e4be682",
      "metadata": {},
      "source": ["# Movie Recommendation System"]
    },
    {
      "cell_type": "markdown",
      "id": "9fb2fa5d",
      "metadata": {},
      "source": ["## Loading movie data"]
    },
    {
      "cell_type": "code",
      "execution_count": null,
      "id": "94dff3c7",
      "metadata": {},
      "outputs": [],
      "source": ["import os\n", "import numpy as np\n", "import pandas as pd\n", "from typing import Type"]
    },
    {
      "cell_type": "markdown",
      "id": "dfe95d3e",
      "metadata": {},
      "source": ["Define the CSV file of the movie table"]
    },
    {
      "cell_type": "code",
      "execution_count": null,
      "id": "c01b523c",
      "metadata": {},
      "outputs": [],
      "source": ["data_dir: str = \"data\"\n", "movies_csv: str = os.path.join(data_dir, \"movies.csv\")"]
    },
    {
      "cell_type": "markdown",
      "id": "b462b34a",
      "metadata": {},
      "source": ["Define the dtype for minimum required space"]
    },
    {
      "cell_type": "code",
      "execution_count": null,
      "id": "6f6f4e29",
      "metadata": {},
      "outputs": [],
      "source": [
        "movies_dtype: dict[str, Type] = {\n",
        "    \"movieId\": np.int32,\n",
        "    \"title\": str,\n",
        "    \"genres\": str\n",
        "}"
      ]
    },
    {
      "cell_type": "markdown",
      "id": "bad9267d",
      "metadata": {},
      "source": ["Load the CSV into a dataframe"]
    },
    {
      "cell_type": "code",
      "execution_count": null,
      "id": "004afc99",
      "metadata": {},
      "outputs": [],
      "source": ["movies_df: pd.DataFrame = pd.read_csv(movies_csv, dtype=movies_dtype)"]
    },
    {
      "cell_type": "code",
      "execution_count": null,
      "id": "5b42a78d",
      "metadata": {},
      "outputs": [],
      "source": ["movies_df.head()"]
    },
    {
      "cell_type": "markdown",
      "id": "01988d2e",
      "metadata": {},
      "source": ["## Cleaning movie data"]
    },
    {
      "cell_type": "markdown",
      "id": "1f9a7c55",
      "metadata": {},
      "source": ["Drop the rows with missing values"]
    },
    {
      "cell_type": "code",
      "execution_count": null,
      "id": "0f9a9883",
      "metadata": {},
      "outputs": [],
      "source": ["movies_clean: pd.DataFrame = movies_df.dropna()"]
    },
    {
      "cell_type": "code",
      "execution_count": null,
      "id": "70685d3e",
      "metadata": {},
      "outputs": [],
      "source": ["movies_df.shape[0], movies_clean.shape[0]"]
    },
    {
      "cell_type": "markdown",
      "id": "e083df6a",
      "metadata": {},
      "source": ["## Genre one-hot encoding"]
    },
    {
      "cell_type": "code",
      "execution_count": null,
      "id": "a084fad6",
      "metadata": {},
      "outputs": [],
      "source": [
        "import json\n",
        "from scipy.sparse import spmatrix\n",
        "from typing import Union\n",
        "from numpy.typing import NDArray\n",
        "from sklearn.preprocessing import MultiLabelBinarizer"
      ]
    },
    {
      "cell_type": "markdown",
      "id": "19be22cf",
      "metadata": {},
      "source": ["Get a dataframe of just the `movieId` and `genres`"]
    },
    {
      "cell_type": "code",
      "execution_count": null,
      "id": "4b60f21a",
      "metadata": {},
      "outputs": [],
      "source": [
        "movies_feat: pd.DataFrame = movies_clean.copy()\n",
        "movies_feat = movies_feat.drop(columns=[\"title\"])"
      ]
    },
    {
      "cell_type": "markdown",
      "id": "a55c08f1",
      "metadata": {},
      "source": ["Turn the `genres` column into a list of strings"]
    },
    {
      "cell_type": "code",
      "execution_count": null,
      "id": "0048fd4e",
      "metadata": {},
      "outputs": [],
      "source": ["movies_feat[\"genres\"] = movies_feat[\"genres\"].str.split(\"|\")"]
    },
    {
      "cell_type": "markdown",
      "id": "21ed3f17",
      "metadata": {},
      "source": ["Fit transform the `genres` column into one-hot encodings"]
    },
    {
      "cell_type": "code",
      "execution_count": null,
      "id": "3c42f2dc",
      "metadata": {},
      "outputs": [],
      "source": ["mlb: MultiLabelBinarizer = MultiLabelBinarizer()\n", "mlb.fit_transform(movies_feat[\"genres\"])"]
    },
    {
      "cell_type": "markdown",
      "id": "28eec4c1",
      "metadata": {},
      "source": ["Define the JSON file to save the MLB classes into"]
    },
    {
      "cell_type": "code",
      "execution_count": null,
      "id": "d6ea6b68",
      "metadata": {},
      "outputs": [],
      "source": [
        "cache_dir: str = \"cache\"\n",
        "mlb_classes_json: str = os.path.join(cache_dir, \"mlb_classes.json\")"
      ]
    },
    {
      "cell_type": "markdown",
      "id": "544edfef",
      "metadata": {},
      "source": ["Cache the MLB classes into a JSON file for re-use"]
    },
    {
      "cell_type": "code",
      "execution_count": null,
      "id": "2f7b75dc",
      "metadata": {},
      "outputs": [],
      "source": ["with open(mlb_classes_json, \"w\") as f:\n", "    json.dump(mlb.classes_.tolist(), f)"]
    },
    {
      "cell_type": "markdown",
      "id": "d31f6465",
      "metadata": {},
      "source": ["Load the MLB with the cached classes to check if it works"]
    },
    {
      "cell_type": "code",
      "execution_count": null,
      "id": "c37df9c5",
      "metadata": {},
      "outputs": [],
      "source": ["with open(mlb_classes_json, \"r\") as f:\n", "    mlb = MultiLabelBinarizer(classes=json.load(f))"]
    },
    {
      "cell_type": "markdown",
      "id": "4456ce36",
      "metadata": {},
      "source": ["Get the one-hot encodings"]
    },
    {
      "cell_type": "code",
      "execution_count": null,
      "id": "84036985",
      "metadata": {},
      "outputs": [],
      "source": ["encodings: Union[NDArray[np.int32], spmatrix] = mlb.fit_transform(\n", "    movies_feat[\"genres\"])"]
    },
    {
      "cell_type": "markdown",
      "id": "648db6d3",
      "metadata": {},
      "source": ["Store the one-hot encodings as an integer as there are less than 32 genres in the dataframe"]
    },
    {
      "cell_type": "code",
      "execution_count": null,
      "id": "a41a6235",
      "metadata": {},
      "outputs": [],
      "source": [
        "genre_bits: NDArray[np.int32] = np.zeros(len(movies_feat), dtype=np.int32)\n",
        "\n",
        "for i in range(encodings.shape[1]):\n",
        "    genre_bits = genre_bits | (encodings[:, i].astype(np.int32) << i)\n",
        "\n",
        "movies_feat[\"genres\"] = genre_bits"
      ]
    },
    {
      "cell_type": "code",
      "execution_count": null,
      "id": "2fe4301e",
      "metadata": {},
      "outputs": [],
      "source": ["movies_feat.head()"]
    },
    {
      "cell_type": "markdown",
      "id": "fc7a7bfd",
      "metadata": {},
      "source": ["## User Input"]
    },
    {
      "cell_type": "markdown",
      "id": "79086f53",
      "metadata": {},
      "source": ["Define the CSV file containing title and rating"]
    },
    {
      "cell_type": "code",
      "execution_count": null,
      "id": "9e8ce4ca",
      "metadata": {},
      "outputs": [],
      "source": ["input_csv: str = os.path.join(data_dir, \"input.csv\")"]
    },
    {
      "cell_type": "markdown",
      "id": "2e1d1c59",
      "metadata": {},
      "source": ["Load the inputs into a dataframe"]
    },
    {
      "cell_type": "code",
      "execution_count": null,
      "id": "4ca109bf",
      "metadata": {},
      "outputs": [],
      "source": ["input_df: pd.DataFrame = pd.read_csv(input_csv)"]
    },
    {
      "cell_type": "code",
      "execution_count": null,
      "id": "d7041629",
      "metadata": {},
      "outputs": [],
      "source": ["input_df.head()"]
    },
    {
      "cell_type": "markdown",
      "id": "e0bb04e5",
      "metadata": {},
      "source": ["## Content-based filtering"]
    },
    {
      "cell_type": "code",
      "execution_count": null,
      "id": "3c2779e1",
      "metadata": {},
      "outputs": [],
      "source": ["import numba as nb\n", "from collections import defaultdict"]
    },
    {
      "cell_type": "markdown",
      "id": "2b0b0696",
      "metadata": {},
      "source": ["Use `numba` for fast performance"]
    },
    {
      "cell_type": "code",
      "execution_count": null,
      "id": "560d9ea4",
      "metadata": {},
      "outputs": [],
      "source": [
        "@nb.njit\n",
        "def popcount(x):\n",
        "    count = 0\n",
        "    while x:\n",
        "        count += x & 1\n",
        "        x >>= 1\n",
        "    return count"
      ]
    },
    {
      "cell_type": "markdown",
      "id": "a00c9f9e",
      "metadata": {},
      "source": ["Pre-computer movie-genre mapping"]
    },
    {
      "cell_type": "code",
      "execution_count": null,
      "id": "eb8985b1",
      "metadata": {},
      "outputs": [],
      "source": [
        "movie_genres: dict[int, int] = dict(zip(movies_feat[\"movieId\"],\n",
        "                                        movies_feat[\"genres\"]))"
      ]
    },
    {
      "cell_type": "markdown",
      "id": "e41d5fda",
      "metadata": {},
      "source": ["Calculate the sum similarity score across all input movies"]
    },
    {
      "cell_type": "code",
      "execution_count": null,
      "id": "e8e09fbe",
      "metadata": {},
      "outputs": [],
      "source": [
        "similarity_scores: defaultdict[int] = defaultdict(int)\n",
        "\n",
        "for _, row in input_df.iterrows():\n",
        "    source_genres = movie_genres[row[\"movieId\"]]\n",
        "\n",
        "    for mov_id, target_genres in movie_genres.items():\n",
        "        common = source_genres & target_genres\n",
        "        extra = target_genres & ~source_genres\n",
        "\n",
        "        sim_score = popcount(common) - popcount(extra)\n",
        "        similarity_scores[mov_id] += sim_score"
      ]
    },
    {
      "cell_type": "code",
      "execution_count": null,
      "id": "fb1ed686",
      "metadata": {},
      "outputs": [],
      "source": ["dict(list(similarity_scores.items())[:10])"]
    },
    {
      "cell_type": "markdown",
      "id": "7a1e542a",
      "metadata": {},
      "source": ["## Defining CSV loader"]
    },
    {
      "cell_type": "code",
      "execution_count": null,
      "id": "c6128a73",
      "metadata": {},
      "outputs": [],
      "source": ["from pandas.io.parsers import TextFileReader\n", "from typing import Generator, Type"]
    },
    {
      "cell_type": "markdown",
      "id": "eb99e722",
      "metadata": {},
      "source": ["Read the CSV in chunks to optimize memory utilization"]
    },
    {
      "cell_type": "code",
      "execution_count": null,
      "id": "05fc87ff",
      "metadata": {},
      "outputs": [],
      "source": [
        "def read_csv_in_chunks(\n",
        "    file_path: str,\n",
        "    dtype: dict[str, Type],\n",
        "    chunk_size: int = 100_000\n",
        ") -> Generator[pd.DataFrame, None, None]:\n",
        "    reader: TextFileReader = pd.read_csv(file_path, chunksize=chunk_size,\n",
        "                                         dtype=dtype)\n",
        "    for chunk in reader:\n",
        "        chunk: pd.DataFrame\n",
        "        yield chunk.dropna()"
      ]
    },
    {
      "cell_type": "markdown",
      "id": "2fe35a60",
      "metadata": {},
      "source": ["## Collabarative filtering"]
    },
    {
      "cell_type": "markdown",
      "id": "5ecfe192",
      "metadata": {},
      "source": ["Precompute the movie-ratings mappings"]
    },
    {
      "cell_type": "code",
      "execution_count": null,
      "id": "11fa7c60",
      "metadata": {},
      "outputs": [],
      "source": [
        "input_ratings: dict[int, float] = dict(zip(input_df[\"movieId\"], \n",
        "                                           input_df[\"rating\"]))"
      ]
    },
    {
      "cell_type": "markdown",
      "id": "f1843930",
      "metadata": {},
      "source": ["Define the CSV file for ratings data"]
    },
    {
      "cell_type": "code",
      "execution_count": null,
      "id": "23169bb3",
      "metadata": {},
      "outputs": [],
      "source": ["ratings_csv: str = os.path.join(data_dir, \"ratings.csv\")"]
    },
    {
      "cell_type": "markdown",
      "id": "f3729914",
      "metadata": {},
      "source": ["Define the dtype for minimum required space"]
    },
    {
      "cell_type": "code",
      "execution_count": null,
      "id": "0f8f1415",
      "metadata": {},
      "outputs": [],
      "source": [
        "ratings_dtype: dict[str, Type] = {\n",
        "    \"userId\": np.int32,\n",
        "    \"movieId\": np.int32,\n",
        "    \"rating\": np.float16,\n",
        "    \"timestamp\": np.int32\n",
        "}"
      ]
    },
    {
      "cell_type": "markdown",
      "id": "bd7aaf11",
      "metadata": {},
      "source": ["Calculate the user similarity"]
    },
    {
      "cell_type": "code",
      "execution_count": null,
      "id": "38f08823",
      "metadata": {},
      "outputs": [],
      "source": [
        "user_errors: defaultdict[float] = defaultdict(float)\n",
        "user_counts: defaultdict[int] = defaultdict(int)\n",
        "\n",
        "for chunk in read_csv_in_chunks(ratings_csv, ratings_dtype):\n",
        "    chunk_fil: pd.DataFrame = (chunk[chunk[\"movieId\"].isin(input_ratings)]\n",
        "                               .copy())\n",
        "    mae = abs(chunk_fil[\"rating\"] - chunk_fil[\"movieId\"].map(\n",
        "        input_ratings))\n",
        "    chunk_fil[\"error\"] = 1 / (1 + mae)\n",
        "\n",
        "    for _, row in chunk_fil.iterrows():\n",
        "        user_errors[row[\"userId\"]] += row[\"error\"]\n",
        "        user_counts[row[\"userId\"]] += 1"
      ]
    },
    {
      "cell_type": "code",
      "execution_count": null,
      "id": "13528070",
      "metadata": {},
      "outputs": [],
      "source": [
        "user_scores: dict[int, float] = {\n",
        "    int(user): user_errors[user]\n",
        "    for user in user_errors\n",
        "    if user_counts[user] > 0\n",
        "}\n",
        "\n",
        "ranked_users: list[int, float] = sorted(user_scores.items(), \n",
        "                                        key=lambda x: x[1])\n",
        "top_n_users: dict[int, float] = dict(ranked_users[:-10:-1])"
      ]
    },
    {
      "cell_type": "code",
      "execution_count": null,
      "id": "7979b255",
      "metadata": {},
      "outputs": [],
      "source": ["top_n_users"]
    },
    {
      "cell_type": "markdown",
      "id": "1ee34316",
      "metadata": {},
      "source": ["Get the list of movies these users rate highest"]
    },
    {
      "cell_type": "code",
      "execution_count": null,
      "id": "6f451096",
      "metadata": {},
      "outputs": [],
      "source": [
        "movie_scores: defaultdict[float] = defaultdict(float)\n",
        "movie_counts: defaultdict[int] = defaultdict(int)\n",
        "\n",
        "for chunk in read_csv_in_chunks(ratings_csv, ratings_dtype):\n",
        "    chunk_fil: pd.DataFrame = chunk[chunk[\"userId\"].isin(top_n_users)].copy()\n",
        "\n",
        "    for _, row in chunk_fil.iterrows():\n",
        "        movie_scores[row[\"movieId\"]] += row[\"rating\"]\n",
        "        movie_counts[row[\"movieId\"]] += 1"
      ]
    },
    {
      "cell_type": "code",
      "execution_count": null,
      "id": "7cfd582e",
      "metadata": {},
      "outputs": [],
      "source": [
        "movie_similarity_scores: defaultdict[float] = defaultdict(float)\n",
        "\n",
        "for movie in movie_scores:\n",
        "    if movie_counts[movie] > 0:\n",
        "        movie_similarity_scores[movie] = (movie_scores[movie] \n",
        "                                          / movie_counts[movie])"
      ]
    },
    {
      "cell_type": "markdown",
      "id": "615c6ad7",
      "metadata": {},
      "source": ["## Final Result"]
    },
    {
      "cell_type": "code",
      "execution_count": null,
      "id": "80484cde",
      "metadata": {},
      "outputs": [],
      "source": ["from typing import Any"]
    },
    {
      "cell_type": "markdown",
      "id": "b07322ce",
      "metadata": {},
      "source": ["Get the final score by equally weighing in content-based and collaborative filtering"]
    },
    {
      "cell_type": "code",
      "execution_count": null,
      "id": "72910032",
      "metadata": {},
      "outputs": [],
      "source": [
        "final_similarity_scores: dict[int, float] = {\n",
        "    int(movie): movie_similarity_scores[movie] + similarity_scores[movie]\n",
        "    for movie in similarity_scores\n",
        "}"
      ]
    },
    {
      "cell_type": "markdown",
      "id": "8f42ca5e",
      "metadata": {},
      "source": ["Get the top 50 movies"]
    },
    {
      "cell_type": "code",
      "execution_count": null,
      "id": "87e1233b",
      "metadata": {},
      "outputs": [],
      "source": [
        "top_n_movies: list[int, float] = sorted(final_similarity_scores.items(), \n",
        "                      key=lambda x: x[1])[:-50:-1]\n",
        "top_n_movie_scores: list[dict[str, Any]] = []\n",
        "\n",
        "for item in top_n_movies:\n",
        "    row = movies_clean[movies_clean[\"movieId\"] == item[0]].iloc[0]\n",
        "    top_n_movie_scores.append({\n",
        "        \"title\": row[\"title\"],\n",
        "        \"score\": item[1]\n",
        "    })"
      ]
    },
    {
      "cell_type": "markdown",
      "id": "e9ef5da8",
      "metadata": {},
      "source": ["Define the output CSV file"]
    },
    {
      "cell_type": "code",
      "execution_count": null,
      "id": "c5721931",
      "metadata": {},
      "outputs": [],
      "source": ["output_csv: str = os.path.join(cache_dir, \"output.csv\")"]
    },
    {
      "cell_type": "markdown",
      "id": "e2526ae2",
      "metadata": {},
      "source": ["Write the scores to the output CSV file"]
    },
    {
      "cell_type": "code",
      "execution_count": null,
      "id": "5aa8e3ca",
      "metadata": {},
      "outputs": [],
      "source": ["pd.DataFrame(top_n_movie_scores).to_csv(output_csv, index=False)"]
    },
    {
      "cell_type": "code",
      "execution_count": null,
      "id": "4cce3fd8",
      "metadata": {},
      "outputs": [],
      "source": []
    }
  ],
  "metadata": {
    "kernelspec": {
      "name": "python3",
      "display_name": "Python 3"
    },
    "language_info": {
      "name": "python"
    }
  },
  "nbformat": 4,
  "nbformat_minor": 5
}
