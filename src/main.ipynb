{
 "cells": [
  {
   "cell_type": "markdown",
   "id": "8e4be682",
   "metadata": {},
   "source": [
    "# Movie Recommendation System"
   ]
  },
  {
   "cell_type": "markdown",
   "id": "9fb2fa5d",
   "metadata": {},
   "source": [
    "## Loading movie data"
   ]
  },
  {
   "cell_type": "code",
   "execution_count": null,
   "id": "c66e6dc5",
   "metadata": {},
   "outputs": [],
   "source": [
    "data_dir: str = \"data\""
   ]
  },
  {
   "cell_type": "code",
   "execution_count": null,
   "id": "6b5ed8fe",
   "metadata": {},
   "outputs": [],
   "source": [
    "import os"
   ]
  },
  {
   "cell_type": "markdown",
   "id": "dfe95d3e",
   "metadata": {},
   "source": [
    "Define the CSV file of the movie table"
   ]
  },
  {
   "cell_type": "code",
   "execution_count": null,
   "id": "c01b523c",
   "metadata": {},
   "outputs": [],
   "source": [
    "movies_csv: str = os.path.join(data_dir, \"movies.csv\")"
   ]
  },
  {
   "cell_type": "code",
   "execution_count": null,
   "id": "8831144c",
   "metadata": {},
   "outputs": [],
   "source": [
    "import numpy as np\n",
    "from typing import Type"
   ]
  },
  {
   "cell_type": "markdown",
   "id": "b462b34a",
   "metadata": {},
   "source": [
    "Define the dtype for minimum required space"
   ]
  },
  {
   "cell_type": "code",
   "execution_count": null,
   "id": "6f6f4e29",
   "metadata": {},
   "outputs": [],
   "source": [
    "movies_dtype: dict[str, Type] = {\n",
    "    \"movieId\": np.int32,\n",
    "    \"title\": str,\n",
    "    \"genres\": str\n",
    "}"
   ]
  },
  {
   "cell_type": "code",
   "execution_count": null,
   "id": "99bf2e0c",
   "metadata": {},
   "outputs": [],
   "source": [
    "import pandas as pd"
   ]
  },
  {
   "cell_type": "markdown",
   "id": "bad9267d",
   "metadata": {},
   "source": [
    "Load the CSV into a dataframe"
   ]
  },
  {
   "cell_type": "code",
   "execution_count": null,
   "id": "004afc99",
   "metadata": {},
   "outputs": [],
   "source": [
    "movies_df: pd.DataFrame = pd.read_csv(movies_csv, dtype=movies_dtype)"
   ]
  },
  {
   "cell_type": "code",
   "execution_count": null,
   "id": "5b42a78d",
   "metadata": {},
   "outputs": [],
   "source": [
    "movies_df.head()"
   ]
  },
  {
   "cell_type": "markdown",
   "id": "01988d2e",
   "metadata": {},
   "source": [
    "## Cleaning movie data"
   ]
  },
  {
   "cell_type": "markdown",
   "id": "1f9a7c55",
   "metadata": {},
   "source": [
    "Drop the rows with missing values"
   ]
  },
  {
   "cell_type": "code",
   "execution_count": null,
   "id": "0f9a9883",
   "metadata": {},
   "outputs": [],
   "source": [
    "movies_clean: pd.DataFrame = movies_df.dropna()"
   ]
  },
  {
   "cell_type": "code",
   "execution_count": null,
   "id": "70685d3e",
   "metadata": {},
   "outputs": [],
   "source": [
    "movies_df.shape[0], movies_clean.shape[0]"
   ]
  },
  {
   "cell_type": "markdown",
   "id": "e083df6a",
   "metadata": {},
   "source": [
    "## Genre one-hot encoding"
   ]
  },
  {
   "cell_type": "markdown",
   "id": "19be22cf",
   "metadata": {},
   "source": [
    "Get a dataframe of just the `movieId` and `genres`"
   ]
  },
  {
   "cell_type": "code",
   "execution_count": null,
   "id": "4b60f21a",
   "metadata": {},
   "outputs": [],
   "source": [
    "movies_feat: pd.DataFrame = movies_clean.copy()\n",
    "movies_feat = movies_feat.drop(columns=[\"title\"])"
   ]
  },
  {
   "cell_type": "markdown",
   "id": "a55c08f1",
   "metadata": {},
   "source": [
    "Turn the `genres` column into a list of strings"
   ]
  },
  {
   "cell_type": "code",
   "execution_count": null,
   "id": "0048fd4e",
   "metadata": {},
   "outputs": [],
   "source": [
    "movies_feat[\"genres\"] = movies_feat[\"genres\"].str.split(\"|\")"
   ]
  },
  {
   "cell_type": "code",
   "execution_count": null,
   "id": "a084fad6",
   "metadata": {},
   "outputs": [],
   "source": [
    "from sklearn.preprocessing import MultiLabelBinarizer"
   ]
  },
  {
   "cell_type": "markdown",
   "id": "21ed3f17",
   "metadata": {},
   "source": [
    "Fit transform the `genres` column into one-hot encodings"
   ]
  },
  {
   "cell_type": "code",
   "execution_count": null,
   "id": "3c42f2dc",
   "metadata": {},
   "outputs": [],
   "source": [
    "mlb: MultiLabelBinarizer = MultiLabelBinarizer()\n",
    "mlb.fit_transform(movies_feat[\"genres\"])"
   ]
  },
  {
   "cell_type": "code",
   "execution_count": null,
   "id": "d6ea6b68",
   "metadata": {},
   "outputs": [],
   "source": [
    "cache_dir: str = \"cache\""
   ]
  },
  {
   "cell_type": "markdown",
   "id": "28eec4c1",
   "metadata": {},
   "source": [
    "Define the JSON file to save the MLB classes into"
   ]
  },
  {
   "cell_type": "code",
   "execution_count": null,
   "id": "23d86d49",
   "metadata": {},
   "outputs": [],
   "source": [
    "mlb_classes_json: str = os.path.join(cache_dir, \"mlb_classes.json\")"
   ]
  },
  {
   "cell_type": "code",
   "execution_count": null,
   "id": "7656df88",
   "metadata": {},
   "outputs": [],
   "source": [
    "import json"
   ]
  },
  {
   "cell_type": "markdown",
   "id": "544edfef",
   "metadata": {},
   "source": [
    "Cache the MLB classes into a JSON file for re-use"
   ]
  },
  {
   "cell_type": "code",
   "execution_count": null,
   "id": "2f7b75dc",
   "metadata": {},
   "outputs": [],
   "source": [
    "with open(mlb_classes_json, \"w\") as f:\n",
    "    json.dump(mlb.classes_.tolist(), f)"
   ]
  },
  {
   "cell_type": "markdown",
   "id": "d31f6465",
   "metadata": {},
   "source": [
    "Load the MLB with the cached classes to check if it works"
   ]
  },
  {
   "cell_type": "code",
   "execution_count": null,
   "id": "c37df9c5",
   "metadata": {},
   "outputs": [],
   "source": [
    "with open(mlb_classes_json, \"r\") as f:\n",
    "    mlb = MultiLabelBinarizer(classes=json.load(f))"
   ]
  },
  {
   "cell_type": "code",
   "execution_count": null,
   "id": "a92f7e2e",
   "metadata": {},
   "outputs": [],
   "source": [
    "from scipy.sparse import spmatrix\n",
    "from typing import Union\n",
    "from numpy.typing import NDArray"
   ]
  },
  {
   "cell_type": "markdown",
   "id": "4456ce36",
   "metadata": {},
   "source": [
    "Get the one-hot encodings"
   ]
  },
  {
   "cell_type": "code",
   "execution_count": null,
   "id": "84036985",
   "metadata": {},
   "outputs": [],
   "source": [
    "encodings: Union[NDArray[np.int32], spmatrix] = mlb.fit_transform(\n",
    "    movies_feat[\"genres\"])"
   ]
  },
  {
   "cell_type": "markdown",
   "id": "648db6d3",
   "metadata": {},
   "source": [
    "Store the one-hot encodings as an integer as there are less than 32 genres in the dataframe"
   ]
  },
  {
   "cell_type": "code",
   "execution_count": null,
   "id": "a41a6235",
   "metadata": {},
   "outputs": [],
   "source": [
    "genre_bits: NDArray[np.int32] = np.zeros(len(movies_feat), dtype=np.int32)\n",
    "\n",
    "for i in range(encodings.shape[1]):\n",
    "    genre_bits = genre_bits | (encodings[:, i].astype(np.int32) << i)"
   ]
  },
  {
   "cell_type": "code",
   "execution_count": null,
   "id": "b8c98200",
   "metadata": {},
   "outputs": [],
   "source": [
    "movies_feat[\"genres\"] = genre_bits"
   ]
  },
  {
   "cell_type": "code",
   "execution_count": null,
   "id": "2fe4301e",
   "metadata": {},
   "outputs": [],
   "source": [
    "movies_feat.head()"
   ]
  },
  {
   "cell_type": "markdown",
   "id": "fc7a7bfd",
   "metadata": {},
   "source": [
    "## User Input"
   ]
  },
  {
   "cell_type": "markdown",
   "id": "79086f53",
   "metadata": {},
   "source": [
    "Define the CSV file containing title and rating"
   ]
  },
  {
   "cell_type": "code",
   "execution_count": null,
   "id": "9e8ce4ca",
   "metadata": {},
   "outputs": [],
   "source": [
    "input_csv: str = os.path.join(data_dir, \"input.csv\")"
   ]
  },
  {
   "cell_type": "markdown",
   "id": "2e1d1c59",
   "metadata": {},
   "source": [
    "Load the inputs into a dataframe"
   ]
  },
  {
   "cell_type": "code",
   "execution_count": null,
   "id": "4ca109bf",
   "metadata": {},
   "outputs": [],
   "source": [
    "input_df: pd.DataFrame = pd.read_csv(input_csv)"
   ]
  },
  {
   "cell_type": "code",
   "execution_count": null,
   "id": "d7041629",
   "metadata": {},
   "outputs": [],
   "source": [
    "input_df.head()"
   ]
  },
  {
   "cell_type": "markdown",
   "id": "c35d652f",
   "metadata": {},
   "source": [
    "## Input fuzzy matching"
   ]
  },
  {
   "cell_type": "code",
   "execution_count": null,
   "id": "fbcd4da7",
   "metadata": {},
   "outputs": [],
   "source": [
    "from rapidfuzz import process\n",
    "from typing import Any"
   ]
  },
  {
   "cell_type": "markdown",
   "id": "58f8bc3e",
   "metadata": {},
   "source": [
    "Get the `movieId` by doing a fuzzy search on the title"
   ]
  },
  {
   "cell_type": "code",
   "execution_count": null,
   "id": "3e6a7d7e",
   "metadata": {},
   "outputs": [],
   "source": [
    "input_feat_list: list[dict[str, Any]] = []\n",
    "\n",
    "for _, row in input_df.iterrows():\n",
    "    matched: tuple[str, float, int] = process.extractOne(row[\"title\"],\n",
    "                                                         movies_clean[\"title\"])\n",
    "    if not matched or not matched[0]:\n",
    "        raise Exception(f\"Invalid match for {row['title']}: {matched[0]}\")\n",
    "\n",
    "    movie_row = movies_clean[movies_clean[\"title\"] == matched[0]].iloc[0]\n",
    "\n",
    "    confirmation_prompt = (f\"Got '{movie_row['title']}' for '{row['title']}'. \"\n",
    "                           f\"Add? (Y/n)?\")\n",
    "    confirmation = input(confirmation_prompt) or \"y\"\n",
    "\n",
    "    match confirmation.lower():\n",
    "        case \"y\" | \"yes\":\n",
    "            input_feat_list.append({\n",
    "                \"movieId\": movie_row[\"movieId\"],\n",
    "                \"rating\": row[\"rating\"]\n",
    "            })\n",
    "\n",
    "        case \"n\" | \"no\" | _:\n",
    "            pass"
   ]
  },
  {
   "cell_type": "code",
   "execution_count": null,
   "id": "adb7f236",
   "metadata": {},
   "outputs": [],
   "source": [
    "input_feat = pd.DataFrame(input_feat_list)"
   ]
  },
  {
   "cell_type": "code",
   "execution_count": null,
   "id": "8899bbeb",
   "metadata": {},
   "outputs": [],
   "source": [
    "input_feat.head()"
   ]
  },
  {
   "cell_type": "markdown",
   "id": "f0809e46",
   "metadata": {},
   "source": [
    "Define the CSV to save the input features"
   ]
  },
  {
   "cell_type": "code",
   "execution_count": null,
   "id": "dc1bccaa",
   "metadata": {},
   "outputs": [],
   "source": [
    "input_feat_csv: str = os.path.join(cache_dir, \"input_feat.csv\")"
   ]
  },
  {
   "cell_type": "markdown",
   "id": "94a00ebe",
   "metadata": {},
   "source": [
    "Save the input features to CSV"
   ]
  },
  {
   "cell_type": "code",
   "execution_count": null,
   "id": "30f00cb4",
   "metadata": {},
   "outputs": [],
   "source": [
    "input_feat.to_csv(input_feat_csv, index=False)"
   ]
  },
  {
   "cell_type": "markdown",
   "id": "d23a5229",
   "metadata": {},
   "source": [
    "Load the input features from cache to check if it works"
   ]
  },
  {
   "cell_type": "code",
   "execution_count": null,
   "id": "2f26524c",
   "metadata": {},
   "outputs": [],
   "source": [
    "input_feat = pd.read_csv(input_feat_csv)"
   ]
  },
  {
   "cell_type": "code",
   "execution_count": null,
   "id": "c6fac26b",
   "metadata": {},
   "outputs": [],
   "source": [
    "input_feat.head()"
   ]
  },
  {
   "cell_type": "markdown",
   "id": "e0bb04e5",
   "metadata": {},
   "source": [
    "## Content-based filtering"
   ]
  },
  {
   "cell_type": "code",
   "execution_count": null,
   "id": "3c2779e1",
   "metadata": {},
   "outputs": [],
   "source": [
    "import numba as nb"
   ]
  },
  {
   "cell_type": "markdown",
   "id": "2b0b0696",
   "metadata": {},
   "source": [
    "Use `numba` for fast performance"
   ]
  },
  {
   "cell_type": "code",
   "execution_count": null,
   "id": "560d9ea4",
   "metadata": {},
   "outputs": [],
   "source": [
    "@nb.njit\n",
    "def popcount(x):\n",
    "    count = 0\n",
    "    while x:\n",
    "        count += x & 1\n",
    "        x >>= 1\n",
    "    return count"
   ]
  },
  {
   "cell_type": "markdown",
   "id": "a00c9f9e",
   "metadata": {},
   "source": [
    "Pre-computer movie-genre mapping"
   ]
  },
  {
   "cell_type": "code",
   "execution_count": null,
   "id": "eb8985b1",
   "metadata": {},
   "outputs": [],
   "source": [
    "movie_genres = dict(zip(movies_feat[\"movieId\"], movies_feat[\"genres\"]))"
   ]
  },
  {
   "cell_type": "markdown",
   "id": "e41d5fda",
   "metadata": {},
   "source": [
    "Calculate the sum similarity score across all input movies"
   ]
  },
  {
   "cell_type": "code",
   "execution_count": null,
   "id": "e8e09fbe",
   "metadata": {},
   "outputs": [],
   "source": [
    "similarity_scores = {}\n",
    "\n",
    "for _, row in input_feat.iterrows():\n",
    "    source_genres = movie_genres[row[\"movieId\"]]\n",
    "\n",
    "    for mov_id, target_genres in movie_genres.items():\n",
    "        common = source_genres & target_genres\n",
    "        extra = target_genres & ~source_genres\n",
    "\n",
    "        sim_score = popcount(common) - popcount(extra)\n",
    "        similarity_scores[mov_id] = similarity_scores.get(mov_id, 0) + sim_score"
   ]
  },
  {
   "cell_type": "code",
   "execution_count": null,
   "id": "fb1ed686",
   "metadata": {},
   "outputs": [],
   "source": [
    "dict(list(similarity_scores.items())[:10])"
   ]
  },
  {
   "cell_type": "markdown",
   "id": "7a1e542a",
   "metadata": {},
   "source": [
    "## Define the CSV loader"
   ]
  },
  {
   "cell_type": "code",
   "execution_count": null,
   "id": "c6128a73",
   "metadata": {},
   "outputs": [],
   "source": [
    "from pandas.io.parsers import TextFileReader\n",
    "from typing import Generator, Type"
   ]
  },
  {
   "cell_type": "markdown",
   "id": "eb99e722",
   "metadata": {},
   "source": [
    "Read the CSV in chunks to optimize memory utilization"
   ]
  },
  {
   "cell_type": "code",
   "execution_count": null,
   "id": "05fc87ff",
   "metadata": {},
   "outputs": [],
   "source": [
    "def read_csv_in_chunks(\n",
    "    file_path: str,\n",
    "    dtype: dict[str, Type],\n",
    "    chunk_size: int = 100_000\n",
    ") -> Generator[pd.DataFrame, None, None]:\n",
    "    reader: TextFileReader = pd.read_csv(file_path, chunksize=chunk_size,\n",
    "                                         dtype=dtype)\n",
    "    for chunk in reader:\n",
    "        chunk: pd.DataFrame\n",
    "        yield chunk.dropna()"
   ]
  },
  {
   "cell_type": "markdown",
   "id": "2fe35a60",
   "metadata": {},
   "source": [
    "## Collabarative filtering"
   ]
  },
  {
   "cell_type": "code",
   "execution_count": null,
   "id": "11fa7c60",
   "metadata": {},
   "outputs": [],
   "source": []
  }
 ],
 "metadata": {
  "kernelspec": {
   "display_name": "Python 3 (ipykernel)",
   "language": "python",
   "name": "python3"
  },
  "language_info": {
   "codemirror_mode": {
    "name": "ipython",
    "version": 3
   },
   "file_extension": ".py",
   "mimetype": "text/x-python",
   "name": "python",
   "nbconvert_exporter": "python",
   "pygments_lexer": "ipython3",
   "version": "3.12.10"
  }
 },
 "nbformat": 4,
 "nbformat_minor": 5
}
