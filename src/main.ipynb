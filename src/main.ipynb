{
 "cells": [
  {
   "cell_type": "markdown",
   "id": "8e4be682",
   "metadata": {},
   "source": [
    "# Movie Recommendation System"
   ]
  },
  {
   "cell_type": "markdown",
   "id": "9fb2fa5d",
   "metadata": {},
   "source": [
    "#### Load the CSV files into dataframe"
   ]
  },
  {
   "cell_type": "code",
   "execution_count": null,
   "id": "6b5ed8fe",
   "metadata": {},
   "outputs": [],
   "source": [
    "import os"
   ]
  },
  {
   "cell_type": "code",
   "execution_count": null,
   "id": "c66e6dc5",
   "metadata": {},
   "outputs": [],
   "source": [
    "data_dir: str = \"data\""
   ]
  },
  {
   "cell_type": "code",
   "execution_count": null,
   "id": "c01b523c",
   "metadata": {},
   "outputs": [],
   "source": [
    "ratings_csv: str = os.path.join(data_dir, \"ratings.csv\")\n",
    "movies_csv: str = os.path.join(data_dir, \"movies.csv\")"
   ]
  },
  {
   "cell_type": "code",
   "execution_count": null,
   "id": "8831144c",
   "metadata": {},
   "outputs": [],
   "source": [
    "import pandas as pd\n",
    "import numpy as np\n",
    "from typing import Any"
   ]
  },
  {
   "cell_type": "code",
   "execution_count": null,
   "id": "6f6f4e29",
   "metadata": {},
   "outputs": [],
   "source": [
    "movies_dtype: dict[str, Any] = {\n",
    "    \"movieId\": np.int32,\n",
    "    \"title\": str,\n",
    "    \"genres\": str\n",
    "}"
   ]
  },
  {
   "cell_type": "code",
   "execution_count": null,
   "id": "004afc99",
   "metadata": {},
   "outputs": [],
   "source": [
    "movies_df: pd.DataFrame = pd.read_csv(movies_csv, dtype=movies_dtype)"
   ]
  },
  {
   "cell_type": "code",
   "execution_count": null,
   "id": "a2601fe0",
   "metadata": {},
   "outputs": [],
   "source": [
    "DF_CHUNK_SIZE: int = 100_000"
   ]
  },
  {
   "cell_type": "code",
   "execution_count": null,
   "id": "700b8cd9",
   "metadata": {},
   "outputs": [],
   "source": [
    "from pandas.io.parsers.readers import TextFileReader"
   ]
  },
  {
   "cell_type": "code",
   "execution_count": null,
   "id": "9658754b",
   "metadata": {},
   "outputs": [],
   "source": [
    "ratings_dtype: dict[str, Any] = {\n",
    "    \"userId\": np.int32,\n",
    "    \"movieId\": np.int32,\n",
    "    \"rating\": np.float16,\n",
    "    \"timestamp\": np.int32\n",
    "}"
   ]
  },
  {
   "cell_type": "code",
   "execution_count": null,
   "id": "54bd8d74",
   "metadata": {},
   "outputs": [],
   "source": [
    "ratings_df_chunks: TextFileReader = pd.read_csv(ratings_csv, \n",
    "                                                chunksize=DF_CHUNK_SIZE, \n",
    "                                                dtype=ratings_dtype)"
   ]
  },
  {
   "cell_type": "code",
   "execution_count": null,
   "id": "5b42a78d",
   "metadata": {},
   "outputs": [],
   "source": [
    "movies_df.head()"
   ]
  },
  {
   "cell_type": "markdown",
   "id": "9913fe68",
   "metadata": {},
   "source": [
    "#### One hot encode the genres"
   ]
  },
  {
   "cell_type": "code",
   "execution_count": null,
   "id": "c6505287",
   "metadata": {},
   "outputs": [],
   "source": [
    "movies_df[\"genres\"] = movies_df[\"genres\"].str.split(\"|\")"
   ]
  },
  {
   "cell_type": "code",
   "execution_count": null,
   "id": "a084fad6",
   "metadata": {},
   "outputs": [],
   "source": [
    "from sklearn.preprocessing import MultiLabelBinarizer"
   ]
  },
  {
   "cell_type": "code",
   "execution_count": null,
   "id": "3c42f2dc",
   "metadata": {},
   "outputs": [],
   "source": [
    "mlb: MultiLabelBinarizer = MultiLabelBinarizer()\n",
    "mlb.fit_transform(movies_df[\"genres\"])"
   ]
  },
  {
   "cell_type": "code",
   "execution_count": null,
   "id": "d6ea6b68",
   "metadata": {},
   "outputs": [],
   "source": [
    "cache_dir: str = \"cache\""
   ]
  },
  {
   "cell_type": "code",
   "execution_count": null,
   "id": "23d86d49",
   "metadata": {},
   "outputs": [],
   "source": [
    "mlb_classes_csv = os.path.join(cache_dir, \"mlb_classes.csv\")"
   ]
  },
  {
   "cell_type": "code",
   "execution_count": null,
   "id": "fa6d9f24",
   "metadata": {},
   "outputs": [],
   "source": [
    "mlb_classes_df = pd.DataFrame({\"pos\": i, \"class\": c} \n",
    "                              for i, c in enumerate(mlb.classes_))"
   ]
  },
  {
   "cell_type": "code",
   "execution_count": null,
   "id": "2f7b75dc",
   "metadata": {},
   "outputs": [],
   "source": [
    "mlb_classes_df.to_csv(mlb_classes_csv)"
   ]
  },
  {
   "cell_type": "code",
   "execution_count": null,
   "id": "c37df9c5",
   "metadata": {},
   "outputs": [],
   "source": [
    "with open(mlb_classes_csv, \"r\") as f:\n",
    "    mlb = MultiLabelBinarizer(classes=pd.read_csv(mlb_classes_csv)[\"class\"])"
   ]
  },
  {
   "cell_type": "code",
   "execution_count": null,
   "id": "a41a6235",
   "metadata": {},
   "outputs": [],
   "source": [
    "encodings = mlb.fit_transform(movies_df[\"genres\"])\n",
    "genre_bits = np.zeros(len(movies_df), dtype=np.int32)\n",
    "\n",
    "for i in range(encodings.shape[1]):\n",
    "    genre_bits = genre_bits | (encodings[:, i].astype(np.int32) << i)"
   ]
  },
  {
   "cell_type": "code",
   "execution_count": null,
   "id": "b8c98200",
   "metadata": {},
   "outputs": [],
   "source": [
    "movies_df[\"genres\"] = genre_bits"
   ]
  },
  {
   "cell_type": "code",
   "execution_count": null,
   "id": "2fe4301e",
   "metadata": {},
   "outputs": [],
   "source": [
    "movies_df.head()"
   ]
  },
  {
   "cell_type": "markdown",
   "id": "54a79480",
   "metadata": {},
   "source": [
    "#### Collect user input"
   ]
  },
  {
   "cell_type": "code",
   "execution_count": null,
   "id": "7e60a9f0",
   "metadata": {},
   "outputs": [],
   "source": [
    "input_df = pd.read_csv(os.path.join(data_dir, \"input.csv\"))"
   ]
  },
  {
   "cell_type": "code",
   "execution_count": null,
   "id": "4fff0910",
   "metadata": {},
   "outputs": [],
   "source": [
    "input_df.head()"
   ]
  },
  {
   "cell_type": "code",
   "execution_count": null,
   "id": "0fc517fa",
   "metadata": {},
   "outputs": [],
   "source": []
  }
 ],
 "metadata": {
  "kernelspec": {
   "display_name": "Python 3 (ipykernel)",
   "language": "python",
   "name": "python3"
  },
  "language_info": {
   "codemirror_mode": {
    "name": "ipython",
    "version": 3
   },
   "file_extension": ".py",
   "mimetype": "text/x-python",
   "name": "python",
   "nbconvert_exporter": "python",
   "pygments_lexer": "ipython3",
   "version": "3.12.9"
  }
 },
 "nbformat": 4,
 "nbformat_minor": 5
}
