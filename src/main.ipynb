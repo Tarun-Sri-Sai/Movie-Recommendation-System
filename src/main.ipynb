{
 "cells": [
  {
   "cell_type": "markdown",
   "id": "8e4be682",
   "metadata": {},
   "source": [
    "# Movie Recommendation System"
   ]
  },
  {
   "cell_type": "markdown",
   "id": "9fb2fa5d",
   "metadata": {},
   "source": [
    "## 1 Data Collection"
   ]
  },
  {
   "cell_type": "markdown",
   "id": "dfe95d3e",
   "metadata": {},
   "source": [
    "### 1.1 Read the CSV files of the movie database"
   ]
  },
  {
   "cell_type": "code",
   "execution_count": null,
   "id": "6b5ed8fe",
   "metadata": {},
   "outputs": [],
   "source": [
    "import os"
   ]
  },
  {
   "cell_type": "code",
   "execution_count": null,
   "id": "c66e6dc5",
   "metadata": {},
   "outputs": [],
   "source": [
    "data_dir: str = \"data\""
   ]
  },
  {
   "cell_type": "code",
   "execution_count": null,
   "id": "c01b523c",
   "metadata": {},
   "outputs": [],
   "source": [
    "ratings_csv: str = os.path.join(data_dir, \"ratings.csv\")\n",
    "movies_csv: str = os.path.join(data_dir, \"movies.csv\")"
   ]
  },
  {
   "cell_type": "code",
   "execution_count": null,
   "id": "8831144c",
   "metadata": {},
   "outputs": [],
   "source": [
    "import pandas as pd\n",
    "import numpy as np\n",
    "from typing import Type"
   ]
  },
  {
   "cell_type": "code",
   "execution_count": null,
   "id": "6f6f4e29",
   "metadata": {},
   "outputs": [],
   "source": [
    "movies_dtype: dict[str, Type] = {\n",
    "    \"movieId\": np.int32,\n",
    "    \"title\": str,\n",
    "    \"genres\": str\n",
    "}"
   ]
  },
  {
   "cell_type": "code",
   "execution_count": null,
   "id": "004afc99",
   "metadata": {},
   "outputs": [],
   "source": [
    "movies_df: pd.DataFrame = pd.read_csv(movies_csv, dtype=movies_dtype)"
   ]
  },
  {
   "cell_type": "code",
   "execution_count": null,
   "id": "a2601fe0",
   "metadata": {},
   "outputs": [],
   "source": [
    "DF_CHUNK_SIZE: int = 100_000"
   ]
  },
  {
   "cell_type": "code",
   "execution_count": null,
   "id": "700b8cd9",
   "metadata": {},
   "outputs": [],
   "source": [
    "from pandas.io.parsers.readers import TextFileReader"
   ]
  },
  {
   "cell_type": "code",
   "execution_count": null,
   "id": "9658754b",
   "metadata": {},
   "outputs": [],
   "source": [
    "ratings_dtype: dict[str, Type] = {\n",
    "    \"userId\": np.int32,\n",
    "    \"movieId\": np.int32,\n",
    "    \"rating\": np.float16,\n",
    "    \"timestamp\": np.int32\n",
    "}"
   ]
  },
  {
   "cell_type": "code",
   "execution_count": null,
   "id": "54bd8d74",
   "metadata": {},
   "outputs": [],
   "source": [
    "ratings_df_chunks: TextFileReader = pd.read_csv(ratings_csv, \n",
    "                                                chunksize=DF_CHUNK_SIZE, \n",
    "                                                dtype=ratings_dtype)"
   ]
  },
  {
   "cell_type": "code",
   "execution_count": null,
   "id": "5b42a78d",
   "metadata": {},
   "outputs": [],
   "source": [
    "movies_df.head()"
   ]
  },
  {
   "cell_type": "markdown",
   "id": "9913fe68",
   "metadata": {},
   "source": [
    "## 2 Data Preparation"
   ]
  },
  {
   "cell_type": "markdown",
   "id": "3a0d32d4",
   "metadata": {},
   "source": [
    "### 2.1 Clean the data"
   ]
  },
  {
   "cell_type": "code",
   "execution_count": null,
   "id": "3316a1f3",
   "metadata": {},
   "outputs": [],
   "source": [
    "original_movie_rows: int = movies_df.shape[0]"
   ]
  },
  {
   "cell_type": "code",
   "execution_count": null,
   "id": "e3af50e0",
   "metadata": {},
   "outputs": [],
   "source": [
    "movies_clean: pd.DataFrame = movies_df.dropna()"
   ]
  },
  {
   "cell_type": "code",
   "execution_count": null,
   "id": "22d84b4f",
   "metadata": {},
   "outputs": [],
   "source": [
    "removed_movie_rows: int = original_movie_rows - movies_clean.shape[0]"
   ]
  },
  {
   "cell_type": "code",
   "execution_count": null,
   "id": "04f11570",
   "metadata": {},
   "outputs": [],
   "source": [
    "removed_movie_rows"
   ]
  },
  {
   "cell_type": "markdown",
   "id": "b90cfaf8",
   "metadata": {},
   "source": [
    "### 2.2 Content-based Filtering"
   ]
  },
  {
   "cell_type": "markdown",
   "id": "19be22cf",
   "metadata": {},
   "source": [
    "#### 2.2.1 One hot encode the movie genres"
   ]
  },
  {
   "cell_type": "code",
   "execution_count": null,
   "id": "c6505287",
   "metadata": {},
   "outputs": [],
   "source": [
    "movies_feat: pd.DataFrame = movies_clean.copy()\n",
    "movies_feat = movies_feat.drop(columns=[\"title\"])\n",
    "movies_feat[\"genres\"] = movies_feat[\"genres\"].str.split(\"|\")"
   ]
  },
  {
   "cell_type": "code",
   "execution_count": null,
   "id": "a084fad6",
   "metadata": {},
   "outputs": [],
   "source": [
    "from sklearn.preprocessing import MultiLabelBinarizer"
   ]
  },
  {
   "cell_type": "code",
   "execution_count": null,
   "id": "3c42f2dc",
   "metadata": {},
   "outputs": [],
   "source": [
    "mlb: MultiLabelBinarizer = MultiLabelBinarizer()\n",
    "mlb.fit_transform(movies_feat[\"genres\"])"
   ]
  },
  {
   "cell_type": "code",
   "execution_count": null,
   "id": "d6ea6b68",
   "metadata": {},
   "outputs": [],
   "source": [
    "cache_dir: str = \"cache\""
   ]
  },
  {
   "cell_type": "code",
   "execution_count": null,
   "id": "23d86d49",
   "metadata": {},
   "outputs": [],
   "source": [
    "mlb_classes_json: str = os.path.join(cache_dir, \"mlb_classes.json\")"
   ]
  },
  {
   "cell_type": "code",
   "execution_count": null,
   "id": "7656df88",
   "metadata": {},
   "outputs": [],
   "source": [
    "import json"
   ]
  },
  {
   "cell_type": "code",
   "execution_count": null,
   "id": "2f7b75dc",
   "metadata": {},
   "outputs": [],
   "source": [
    "with open(mlb_classes_json, \"w\") as f:\n",
    "    json.dump(mlb.classes_.tolist(), f)"
   ]
  },
  {
   "cell_type": "code",
   "execution_count": null,
   "id": "c37df9c5",
   "metadata": {},
   "outputs": [],
   "source": [
    "with open(mlb_classes_json, \"r\") as f:\n",
    "    mlb = MultiLabelBinarizer(classes=json.load(f))"
   ]
  },
  {
   "cell_type": "code",
   "execution_count": null,
   "id": "a92f7e2e",
   "metadata": {},
   "outputs": [],
   "source": [
    "from scipy.sparse import spmatrix\n",
    "from typing import Union\n",
    "from numpy.typing import NDArray"
   ]
  },
  {
   "cell_type": "code",
   "execution_count": null,
   "id": "a41a6235",
   "metadata": {},
   "outputs": [],
   "source": [
    "encodings: Union[np.ndarray, spmatrix] = mlb.fit_transform(\n",
    "    movies_feat[\"genres\"])\n",
    "genre_bits: NDArray[np.int32] = np.zeros(len(movies_feat), dtype=np.int32)\n",
    "\n",
    "for i in range(encodings.shape[1]):\n",
    "    genre_bits = genre_bits | (encodings[:, i].astype(np.int32) << i)"
   ]
  },
  {
   "cell_type": "code",
   "execution_count": null,
   "id": "b8c98200",
   "metadata": {},
   "outputs": [],
   "source": [
    "movies_feat[\"genres\"] = genre_bits"
   ]
  },
  {
   "cell_type": "code",
   "execution_count": null,
   "id": "2fe4301e",
   "metadata": {},
   "outputs": [],
   "source": [
    "movies_feat.head()"
   ]
  },
  {
   "cell_type": "markdown",
   "id": "3291b216",
   "metadata": {},
   "source": [
    "#### 2.2.2 Create a genre similarity matrix"
   ]
  },
  {
   "cell_type": "code",
   "execution_count": null,
   "id": "099ed546",
   "metadata": {},
   "outputs": [],
   "source": [
    "movies_genres: NDArray[np.int32] = np.array(movies_feat[\"genres\"],\n",
    "                                            dtype=np.uint32)\n",
    "movies_count: int = len(movies_genres)"
   ]
  },
  {
   "cell_type": "code",
   "execution_count": null,
   "id": "3c2779e1",
   "metadata": {},
   "outputs": [],
   "source": [
    "import numba as nb"
   ]
  },
  {
   "cell_type": "code",
   "execution_count": null,
   "id": "451ae524",
   "metadata": {},
   "outputs": [],
   "source": [
    "@nb.njit\n",
    "def popcount(x):\n",
    "    count = 0\n",
    "    while x:\n",
    "        count += x & 1\n",
    "        x >>= 1\n",
    "    return count"
   ]
  },
  {
   "cell_type": "code",
   "execution_count": null,
   "id": "e8e09fbe",
   "metadata": {},
   "outputs": [],
   "source": [
    "@nb.njit(parallel=True, fastmath=True)\n",
    "def create_similarity_matrix(array: np.ndarray, arr_len: int):\n",
    "    similarity_matrix: NDArray[np.int32] = np.zeros(\n",
    "        (arr_len, arr_len), dtype=np.int32)\n",
    "\n",
    "    for i in nb.prange(arr_len):\n",
    "        for j in range(arr_len):\n",
    "            common = array[i] & array[j]\n",
    "            extra = array[j] & ~array[i]\n",
    "            \n",
    "            common_bits = 0\n",
    "            extra_bits = 0\n",
    "            \n",
    "            common_bits = popcount(common)\n",
    "            extra_bits = popcount(extra)\n",
    "                \n",
    "            similarity_matrix[i, j] = common_bits - extra_bits\n",
    "\n",
    "    return similarity_matrix"
   ]
  },
  {
   "cell_type": "code",
   "execution_count": null,
   "id": "fb1ed686",
   "metadata": {},
   "outputs": [],
   "source": [
    "genre_similarity_matrix: NDArray[np.int32] = create_similarity_matrix(\n",
    "    movies_genres, movies_count)"
   ]
  },
  {
   "cell_type": "code",
   "execution_count": null,
   "id": "40835fd2",
   "metadata": {},
   "outputs": [],
   "source": [
    "genre_similarity_matrix"
   ]
  },
  {
   "cell_type": "markdown",
   "id": "daf1e406",
   "metadata": {},
   "source": [
    "## 5 Model Testing"
   ]
  },
  {
   "cell_type": "markdown",
   "id": "54a79480",
   "metadata": {},
   "source": [
    "### 5.1 Collect user input"
   ]
  },
  {
   "cell_type": "code",
   "execution_count": null,
   "id": "7e60a9f0",
   "metadata": {},
   "outputs": [],
   "source": [
    "input_df: pd.DataFrame = pd.read_csv(os.path.join(data_dir, \"input.csv\"))"
   ]
  },
  {
   "cell_type": "code",
   "execution_count": null,
   "id": "4fff0910",
   "metadata": {},
   "outputs": [],
   "source": [
    "input_df.head()"
   ]
  },
  {
   "cell_type": "code",
   "execution_count": null,
   "id": "0fc517fa",
   "metadata": {},
   "outputs": [],
   "source": []
  }
 ],
 "metadata": {
  "kernelspec": {
   "display_name": "Python 3 (ipykernel)",
   "language": "python",
   "name": "python3"
  },
  "language_info": {
   "codemirror_mode": {
    "name": "ipython",
    "version": 3
   },
   "file_extension": ".py",
   "mimetype": "text/x-python",
   "name": "python",
   "nbconvert_exporter": "python",
   "pygments_lexer": "ipython3",
   "version": "3.12.10"
  }
 },
 "nbformat": 4,
 "nbformat_minor": 5
}
